{
 "cells": [
  {
   "cell_type": "code",
   "execution_count": 4,
   "metadata": {
    "slideshow": {
     "slide_type": "-"
    }
   },
   "outputs": [
    {
     "name": "stdout",
     "output_type": "stream",
     "text": [
      "The autoreload extension is already loaded. To reload it, use:\n",
      "  %reload_ext autoreload\n"
     ]
    }
   ],
   "source": [
    "import os\n",
    "from pathlib import Path\n",
    "from glob import glob\n",
    "\n",
    "import pandas as pd\n",
    "\n",
    "from scipy.stats import pearsonr\n",
    "from sklearn.metrics import accuracy_score, f1_score\n",
    "\n",
    "from deeppavlov.dataset_readers.paraphraser_reader import ParaphraserReader\n",
    "from deeppavlov.dataset_readers.basic_classification_reader import BasicClassificationDatasetReader\n",
    "\n",
    "from utils import STSReader, XNLIReader\n",
    "\n",
    "%load_ext autoreload\n",
    "%autoreload 2"
   ]
  },
  {
   "cell_type": "code",
   "execution_count": 5,
   "metadata": {
    "tags": [
     "parameters"
    ]
   },
   "outputs": [],
   "source": [
    "# notebook parameters\n",
    "input_dir = 'predictions'"
   ]
  },
  {
   "cell_type": "code",
   "execution_count": 7,
   "metadata": {},
   "outputs": [
    {
     "name": "stderr",
     "output_type": "stream",
     "text": [
      "2018-11-06 17:49:15.607 WARNING in 'deeppavlov.dataset_readers.basic_classification_reader'['basic_classification_reader'] at line 97: Cannot find /home/not_a_robot/Documents/sent_embeddings/comparator/data/Rusentiment/valid.csv file\n",
      "2018-11-06 17:49:16.426 WARNING in 'deeppavlov.dataset_readers.basic_classification_reader'['basic_classification_reader'] at line 97: Cannot find /home/not_a_robot/Documents/sent_embeddings/comparator/data/SBER_FAQ/sber_faq_valid.csv file\n"
     ]
    }
   ],
   "source": [
    "paraphraser = ParaphraserReader().read(Path.cwd() / 'data/Paraphraser')\n",
    "\n",
    "msrvid = STSReader().read(Path.cwd() / 'data/STS2012_MSRvid_translated',\n",
    "                          input_fname='STS.input.MSRvid.txt',\n",
    "                          labels_fname='STS.gs.MSRvid.txt')\n",
    "\n",
    "xnli = XNLIReader().read(Path.cwd() / 'data/XNLI-1.0', lang='ru')\n",
    "\n",
    "rusentiment = BasicClassificationDatasetReader().read(\n",
    "                Path.cwd() / 'data/Rusentiment',\n",
    "                train='rusentiment_preselected_posts.csv',\n",
    "                test='rusentiment_test.csv',\n",
    "                x='text',\n",
    "                y='label')\n",
    "\n",
    "sberfaq = BasicClassificationDatasetReader().read(\n",
    "                Path.cwd() / 'data/SBER_FAQ',\n",
    "                train='sber_faq_train.csv',\n",
    "                valid='sber_faq_valid.csv',\n",
    "                test='sber_faq_test.csv',\n",
    "                names=['label', 'text'],\n",
    "                sep='\\t',\n",
    "                x='text',\n",
    "                y='label')\n",
    "\n",
    "dir2data = {'paraphraser': paraphraser,\n",
    "            'msrvid': msrvid,\n",
    "            'xnli': xnli,\n",
    "            'rusentiment': rusentiment,\n",
    "            'sberfaq': sberfaq}\n",
    "\n",
    "score_tasks = ['paraphraser', 'msrvid']"
   ]
  },
  {
   "cell_type": "code",
   "execution_count": 34,
   "metadata": {},
   "outputs": [],
   "source": [
    "dir2data = {'paraphraser': paraphraser,  # f1 from cosine\n",
    "            'msrvid': msrvid,            # correlation from cosine\n",
    "            'xnli': xnli,                # f1 from class\n",
    "            'rusentiment': rusentiment,  # f1 from class\n",
    "            'sberfaq': sberfaq}          # f1 from class\n",
    "\n",
    "tasks = dir2data.keys()"
   ]
  },
  {
   "cell_type": "code",
   "execution_count": 16,
   "metadata": {},
   "outputs": [],
   "source": [
    "def score_sts(preds_str, dataset):\n",
    "    preds = [float(p) for p in preds_str]\n",
    "    true_ = [p[2] for p in msrvid['test']]\n",
    "    return {'pearson correlation': pearsonr(preds, true_)}\n",
    "\n",
    "\n",
    "def score_paraphraser(preds_str, dataset):\n",
    "    preds = [float(p) for p in preds_str]\n",
    "    true_ = [int(p[2] != -1) for p in paraphraser['test']]\n",
    "    # TODO: threshold search\n",
    "    return {'accuracy': accuracy_score(true_, preds),\n",
    "            'f1': f1_score(true_, preds)}\n",
    "\n",
    "\n",
    "def score_clf(preds_str, dataset):\n",
    "    preds = preds_str\n",
    "    true_ = [p[1] for p in dataset['test']]\n",
    "    return {'accuracy': accuracy_score(preds_str)}"
   ]
  },
  {
   "cell_type": "code",
   "execution_count": null,
   "metadata": {},
   "outputs": [],
   "source": [
    "input_dir = Path(input_dir)\n",
    "\n",
    "results = []\n",
    "\n",
    "for task, dataset in dir2data.items():\n",
    "    for model_preds in glob(input_dir/task):\n",
    "        model_name = model_preds.name.split('.')[0]\n",
    "        try:\n",
    "            with open(model_preds) as f:\n",
    "                preds_str = f.read().split('\\n')\n",
    "            if task == 'paraphraser':\n",
    "                metrics = score_paraphraser(preds_str, dataset)\n",
    "            elif task == 'mrsvid':\n",
    "                metrics = score_sts(preds_str, dataset)\n",
    "            else:\n",
    "                metrics = score_clf(preds_str, dataset)\n",
    "\n",
    "        except Exception as e:\n",
    "            print(e)\n",
    "            continue\n",
    "\n",
    "        results.append({'task': task, 'model': model_name, 'metrics': metrics})"
   ]
  },
  {
   "cell_type": "code",
   "execution_count": 63,
   "metadata": {},
   "outputs": [],
   "source": [
    "# toy data\n",
    "# d = [{'task': 'paraphraser', 'model': 'no_model', 'metrics': {'f1': 0.8, 'accuracy': 0.9}},\n",
    "#      {'task': 'paraphraser', 'model': 'other_model', 'metrics': {'f1': 0.85, 'accuracy': 0.834}},\n",
    "#      {'task': 'paraphraser', 'model': 'other_model2', 'metrics': {'f1': 0.845, 'accuracy': 0.84}},\n",
    "#      {'task': 'paraphraser', 'model': 'other_model3', 'metrics': {'f1': 0.815, 'accuracy': 0.34}},\n",
    "#      {'task': 'paraphraser', 'model': 'other_model4', 'metrics': {'f1': 0.895, 'accuracy': 0.4}},\n",
    "#      {'task': 'xnli', 'model': 'other_model', 'metrics': {'f1': 0.85, 'accuracy': 0.834}}]\n",
    "\n",
    "# results = d"
   ]
  },
  {
   "cell_type": "code",
   "execution_count": 80,
   "metadata": {},
   "outputs": [
    {
     "name": "stderr",
     "output_type": "stream",
     "text": [
      "2018-11-06 18:51:36.965 DEBUG in 'matplotlib.backends'['__init__'] at line 90: backend module://ipykernel.pylab.backend_inline version unknown\n"
     ]
    },
    {
     "data": {
      "image/png": "[encoded data removed]",
      "text/plain": [
       "<Figure size 864x576 with 1 Axes>"
      ]
     },
     "metadata": {
      "needs_background": "light"
     },
     "output_type": "display_data"
    },
    {
     "data": {
      "image/png": "[encoded data removed]",
      "text/plain": [
       "<Figure size 864x576 with 1 Axes>"
      ]
     },
     "metadata": {
      "needs_background": "light"
     },
     "output_type": "display_data"
    }
   ],
   "source": [
    "import matplotlib.pyplot as plt\n",
    "import seaborn\n",
    "\n",
    "seaborn.set()\n",
    "%matplotlib inline\n",
    "\n",
    "for i, task in enumerate(tasks):\n",
    "    all_task_results = [x for x in results if x['task'] == task]\n",
    "    if not all_task_results:\n",
    "        continue\n",
    "    to_plot = {res['model']: res['metrics'] for res in all_task_results}\n",
    "    ax = pd.DataFrame(to_plot).plot(kind='barh', figsize=(12, 8), title=task)\n",
    "\n",
    "plt.show()"
   ]
  },
  {
   "cell_type": "code",
   "execution_count": null,
   "metadata": {},
   "outputs": [],
   "source": []
  }
 ],
 "metadata": {
  "kernelspec": {
   "display_name": "Python 3",
   "language": "python",
   "name": "python3"
  },
  "language_info": {
   "codemirror_mode": {
    "name": "ipython",
    "version": 3
   },
   "file_extension": ".py",
   "mimetype": "text/x-python",
   "name": "python",
   "nbconvert_exporter": "python",
   "pygments_lexer": "ipython3",
   "version": "3.6.6"
  }
 },
 "nbformat": 4,
 "nbformat_minor": 2
}
